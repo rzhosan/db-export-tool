{
 "cells": [
  {
   "cell_type": "code",
   "execution_count": 1,
   "metadata": {},
   "outputs": [],
   "source": [
    "from main import export\n",
    "\n",
    "export({\n",
    "  'exporter': 'postgresql',\n",
    "  'importer': 'mysql',\n",
    "  # 'table': 'event_record',\n",
    "})"
   ]
  }
 ],
 "metadata": {
  "kernelspec": {
   "display_name": "Python 3.10.0 ('candle')",
   "language": "python",
   "name": "python3"
  },
  "language_info": {
   "codemirror_mode": {
    "name": "ipython",
    "version": 3
   },
   "file_extension": ".py",
   "mimetype": "text/x-python",
   "name": "python",
   "nbconvert_exporter": "python",
   "pygments_lexer": "ipython3",
   "version": "3.10.0"
  },
  "orig_nbformat": 4,
  "vscode": {
   "interpreter": {
    "hash": "872c795b9d819783ca566edbaae400d98869c13b17af39beba694345b0efb1ad"
   }
  }
 },
 "nbformat": 4,
 "nbformat_minor": 2
}
